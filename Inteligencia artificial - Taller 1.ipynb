{
 "cells": [
  {
   "cell_type": "code",
   "execution_count": 2,
   "metadata": {},
   "outputs": [
    {
     "name": "stdout",
     "output_type": "stream",
     "text": [
      "ESTADISTICA BÁSICA\n",
      "\n",
      "Los datos almacenados son:  [1, 2, 2, 4, 5, 6, 6, 6, 8, 9]\n",
      "\n",
      "1. La mediana es:  5\n",
      "2. La moda es:  [6]\n",
      "3. El promedio es:  4.9\n",
      "4. La varianza es:  6.29\n",
      "5. La covarianza es:  2.64365067451978\n",
      "\n",
      "El total de los datos es:  10\n"
     ]
    }
   ],
   "source": [
    "import statistics as stats\n",
    "\n",
    "valores = [1, 2, 2, 4, 5, 6, 6, 6, 8, 9]\n",
    "\n",
    "print (\"ESTADISTICA BÁSICA\")\n",
    "print (\"\")\n",
    "print (\"Los datos almacenados son: \", valores)\n",
    "print (\"\")\n",
    "\n",
    "#MEDIANA\n",
    "valores.sort()\n",
    "\n",
    "if len(valores) % 2 == 0:\n",
    "    n = len(valores)\n",
    "    mediana = (valores[n//2-1] + valores[n//2]) // 2\n",
    "else: \n",
    "    mediana = valores[len(valores)//2]\n",
    "    \n",
    "print (\"1. La mediana es: \", mediana)\n",
    "\n",
    "\n",
    "#MODA\n",
    "inicial = 0\n",
    "for i in valores:\n",
    "    repetitivo = valores.count(i)\n",
    "    if repetitivo > inicial:\n",
    "        inicial = repetitivo\n",
    "        \n",
    "moda = []\n",
    "for i in valores:\n",
    "    repetitivo = valores.count(i)\n",
    "    if repetitivo == inicial and i not in moda:\n",
    "        moda.append(i)\n",
    "        \n",
    "print (\"2. La moda es: \", moda)\n",
    "\n",
    "\n",
    "#PROMEDIO\n",
    "\n",
    "promedio = sum(valores)/len(valores)\n",
    "\n",
    "print (\"3. El promedio es: \", promedio)\n",
    "\n",
    "\n",
    "#VARIANZA\n",
    "\n",
    "print (\"4. La varianza es: \", (stats.pvariance(valores)))\n",
    "\n",
    "\n",
    "#COVARIANZA\n",
    "    \n",
    "print (\"5. La covarianza es: \", (stats.stdev(valores)))\n",
    "\n",
    "print (\"\")\n",
    "print (\"El total de los datos es: \", (len(valores)))"
   ]
  },
  {
   "cell_type": "code",
   "execution_count": null,
   "metadata": {},
   "outputs": [],
   "source": []
  }
 ],
 "metadata": {
  "kernelspec": {
   "display_name": "Python 3",
   "language": "python",
   "name": "python3"
  },
  "language_info": {
   "codemirror_mode": {
    "name": "ipython",
    "version": 3
   },
   "file_extension": ".py",
   "mimetype": "text/x-python",
   "name": "python",
   "nbconvert_exporter": "python",
   "pygments_lexer": "ipython3",
   "version": "3.6.4"
  }
 },
 "nbformat": 4,
 "nbformat_minor": 2
}
